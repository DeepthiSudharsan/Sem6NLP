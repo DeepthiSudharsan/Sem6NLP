{
 "cells": [
  {
   "cell_type": "markdown",
   "metadata": {},
   "source": [
    "## <center><font color='black'> DEEPTHI SUDHARSAN (ROLL NUMBER : CB.EN.U4AIE19022)</font></center>\n",
    "## <center><font color='black'> AI IN NLP ASSIGNMENT 4 </font></center>"
   ]
  },
  {
   "cell_type": "markdown",
   "metadata": {},
   "source": [
    "#### The following sentences can be used to find the transition and emission probabilities.\n",
    "•\tIt/PRP looks/VB like/IN circle/N \n",
    "•\tHe/PRP like/IN chocolate/N\n",
    "•\tI/PRP like/VB chocolate/N\n",
    "\n",
    "#### The following sentence can used to find the maximum probable POS tags \n",
    "\n",
    "‘It looks like chocolate’\n"
   ]
  },
  {
   "cell_type": "code",
   "execution_count": 1,
   "metadata": {},
   "outputs": [],
   "source": [
    "# Importing Libraries\n",
    "import numpy as np\n",
    "import pandas as pd\n",
    "from itertools import combinations_with_replacement\n",
    "import itertools"
   ]
  },
  {
   "cell_type": "markdown",
   "metadata": {},
   "source": [
    "### 1. Write a python code to find the probability of word sequence for a part-of-speech sequence. "
   ]
  },
  {
   "cell_type": "code",
   "execution_count": 2,
   "metadata": {},
   "outputs": [],
   "source": [
    "# Emission Probability Function Definition\n",
    "def emission_probability(vocab,tags,inp_text):\n",
    "    temp_inp = [item for sublist in inp_text for item in sublist]\n",
    "    # initialize emission probability matrix with zeros\n",
    "    em_prob = np.zeros((len(vocab),len(tags)))\n",
    "    # whenever we come across a particular word and its tag, we add 1 to that particular location\n",
    "    # for that word and tag in the emission probability matrix\n",
    "    for i in range(len(vocab)):\n",
    "        for j in range(len(tags)):\n",
    "            for k in temp_inp:\n",
    "                if(k[0] == vocab[i] and k[1] == tags[j]):\n",
    "                    em_prob[i][j] = em_prob[i][j] + 1\n",
    "    # Converting the emission probability ndarray to a dataframe\n",
    "    em_prob_df = pd.DataFrame(em_prob, columns = tags)\n",
    "    # inserting a column at the beginning to represent the words\n",
    "    em_prob_df.insert(0, \"Words\", vocab)\n",
    "    # divide the values in each tag column by that column sum to get the emission probabilities\n",
    "    for col in tags:\n",
    "        em_prob_df[col] = em_prob_df[col]/em_prob_df[col].sum()\n",
    "    # resetting the index to the words/vocab instead of index numbers\n",
    "    em_prob_df.set_index('Words',inplace = True)\n",
    "    return em_prob_df\n",
    "\n",
    "def transition_probability(vocab,tags,inp_text):\n",
    "    tags_modified = tags.copy()\n",
    "    # inserting start and end of sentence tags\n",
    "    tags_modified.insert(0,\"<s>\")\n",
    "    tags_modified.insert(len(tags_modified) + 1,\"</s>\")\n",
    "    # supressing 0/0 warning\n",
    "    np.seterr(divide='ignore', invalid='ignore')\n",
    "    # initializing the transition probability matrix with zeros\n",
    "    trans_prob = np.zeros((len(tags_modified),len(tags_modified)))\n",
    "    # for each sentence, if a particular tag is being followed by some other tag, we add 1 to the \n",
    "    # corresponding element in the transition matrix\n",
    "    # if we are i nthe first word of the sentence then we need to also add 1 to the transition\n",
    "    # from start of sentence tag to the first word\n",
    "    # similarly we do the same when we reach the end of the sentence and update the transition matrix\n",
    "    # position for the last word to </s> end of sentence tag transition\n",
    "    for sent in inp_text:\n",
    "        for s in range(len(sent) - 1):\n",
    "            if(s == 0):\n",
    "                trans_prob[tags_modified.index(\"<s>\")][tags_modified.index(sent[s][1])] += 1\n",
    "            trans_prob[tags_modified.index(sent[s][1])][tags_modified.index(sent[s+1][1])] += 1\n",
    "        trans_prob[tags_modified.index(sent[len(sent)-1][1])][tags_modified.index(\"</s>\")] += 1\n",
    "    # now that we have the count, we divide each tag row with the row sum to get the transition probabilities\n",
    "    trans_prob = trans_prob/trans_prob.sum(axis=1, keepdims=True)\n",
    "    # if there were any 0/0 division areas, we just change the value from nan to 0\n",
    "    trans_prob = np.nan_to_num(trans_prob)\n",
    "    # converting ndarray to dataframe\n",
    "    trans_prob_df = pd.DataFrame(trans_prob, columns = tags_modified)\n",
    "    # inserting tags column with the tags list and setting it as index\n",
    "    trans_prob_df.insert(0, \"Tags\", tags_modified)\n",
    "    trans_prob_df.set_index(\"Tags\",inplace = True)\n",
    "    return trans_prob_df"
   ]
  },
  {
   "cell_type": "code",
   "execution_count": 3,
   "metadata": {},
   "outputs": [],
   "source": [
    "def prob_word_given_pos(word_seq,pos_seq,e,t):\n",
    "    # splitting the words and tags from the word and pos sequences\n",
    "    words = word_seq.split()\n",
    "    pos = pos_seq.split()\n",
    "    # creating an array to store the state probabilities for each pos state given\n",
    "    probs = np.zeros(len(words))\n",
    "#     total_prob = t[pos[0]][\"<s>\"] #+ t[\"</s>\"][pos[-1]]\n",
    "    for i in range(len(words)):\n",
    "        # storing the emission probability first\n",
    "        probs[i] = e[pos[i]][words[i]]\n",
    "        # multiplying with the transition probaility\n",
    "        # if we are in the last word of the sentence we need to multiply the transition probabilty of that word to \n",
    "        # the end of sentence tag\n",
    "        if(i != len(words)-1):\n",
    "            probs[i] = probs[i] * t[pos[i+1]][pos[i]]\n",
    "        else:\n",
    "            probs[i] = probs[i] * t[\"</s>\"][pos[i]]\n",
    "    # returning the product of the all the state probailities and multiplying it with the start probability\n",
    "    return t[pos[0]][\"<s>\"] * np.prod(probs)"
   ]
  },
  {
   "cell_type": "code",
   "execution_count": 4,
   "metadata": {},
   "outputs": [
    {
     "data": {
      "text/plain": [
       "[[('It', 'PRP'), ('looks', 'VB'), ('like', 'IN'), ('circle', 'N')],\n",
       " [('He', 'PRP'), ('like', 'IN'), ('chocolate', 'N')],\n",
       " [('I', 'PRP'), ('like', 'VB'), ('chocolate', 'N')]]"
      ]
     },
     "execution_count": 4,
     "metadata": {},
     "output_type": "execute_result"
    }
   ],
   "source": [
    "# sample sentences given to find the transition and emission probabilities\n",
    "sample_text = [\"It/PRP looks/VB like/IN circle/N\",\"He/PRP like/IN chocolate/N\",\"I/PRP like/VB chocolate/N\"]\n",
    "inp = []\n",
    "# splitting each sentence in the list to a list of words based on space delimiter\n",
    "for st in sample_text:\n",
    "    inp.append(st.split())\n",
    "# converting each list of words to tuple pairs consisting of the word and its tag by splitting based on /\n",
    "inp_text = []\n",
    "for ws in inp:\n",
    "    temp = []\n",
    "    for w in ws:\n",
    "        temp.append(tuple(w.split('/')))\n",
    "    inp_text.append(temp)    \n",
    "inp_text     "
   ]
  },
  {
   "cell_type": "code",
   "execution_count": 5,
   "metadata": {},
   "outputs": [
    {
     "name": "stdout",
     "output_type": "stream",
     "text": [
      "['N', 'IN', 'PRP', 'VB']\n",
      "['It', 'chocolate', 'I', 'like', 'looks', 'He', 'circle']\n"
     ]
    }
   ],
   "source": [
    "# getting a list of unique tags and words\n",
    "tags = set()\n",
    "vocab = set()\n",
    "for i in inp_text:\n",
    "    for tp in i:\n",
    "        tags.add(tp[1])\n",
    "        vocab.add(tp[0])\n",
    "tags = list(tags)\n",
    "vocab = list(vocab)\n",
    "print(tags)\n",
    "print(vocab)"
   ]
  },
  {
   "cell_type": "code",
   "execution_count": 6,
   "metadata": {
    "scrolled": false
   },
   "outputs": [
    {
     "data": {
      "text/html": [
       "<div>\n",
       "<style scoped>\n",
       "    .dataframe tbody tr th:only-of-type {\n",
       "        vertical-align: middle;\n",
       "    }\n",
       "\n",
       "    .dataframe tbody tr th {\n",
       "        vertical-align: top;\n",
       "    }\n",
       "\n",
       "    .dataframe thead th {\n",
       "        text-align: right;\n",
       "    }\n",
       "</style>\n",
       "<table border=\"1\" class=\"dataframe\">\n",
       "  <thead>\n",
       "    <tr style=\"text-align: right;\">\n",
       "      <th></th>\n",
       "      <th>N</th>\n",
       "      <th>IN</th>\n",
       "      <th>PRP</th>\n",
       "      <th>VB</th>\n",
       "    </tr>\n",
       "    <tr>\n",
       "      <th>Words</th>\n",
       "      <th></th>\n",
       "      <th></th>\n",
       "      <th></th>\n",
       "      <th></th>\n",
       "    </tr>\n",
       "  </thead>\n",
       "  <tbody>\n",
       "    <tr>\n",
       "      <td>It</td>\n",
       "      <td>0.000000</td>\n",
       "      <td>0.0</td>\n",
       "      <td>0.333333</td>\n",
       "      <td>0.0</td>\n",
       "    </tr>\n",
       "    <tr>\n",
       "      <td>chocolate</td>\n",
       "      <td>0.666667</td>\n",
       "      <td>0.0</td>\n",
       "      <td>0.000000</td>\n",
       "      <td>0.0</td>\n",
       "    </tr>\n",
       "    <tr>\n",
       "      <td>I</td>\n",
       "      <td>0.000000</td>\n",
       "      <td>0.0</td>\n",
       "      <td>0.333333</td>\n",
       "      <td>0.0</td>\n",
       "    </tr>\n",
       "    <tr>\n",
       "      <td>like</td>\n",
       "      <td>0.000000</td>\n",
       "      <td>1.0</td>\n",
       "      <td>0.000000</td>\n",
       "      <td>0.5</td>\n",
       "    </tr>\n",
       "    <tr>\n",
       "      <td>looks</td>\n",
       "      <td>0.000000</td>\n",
       "      <td>0.0</td>\n",
       "      <td>0.000000</td>\n",
       "      <td>0.5</td>\n",
       "    </tr>\n",
       "    <tr>\n",
       "      <td>He</td>\n",
       "      <td>0.000000</td>\n",
       "      <td>0.0</td>\n",
       "      <td>0.333333</td>\n",
       "      <td>0.0</td>\n",
       "    </tr>\n",
       "    <tr>\n",
       "      <td>circle</td>\n",
       "      <td>0.333333</td>\n",
       "      <td>0.0</td>\n",
       "      <td>0.000000</td>\n",
       "      <td>0.0</td>\n",
       "    </tr>\n",
       "  </tbody>\n",
       "</table>\n",
       "</div>"
      ],
      "text/plain": [
       "                  N   IN       PRP   VB\n",
       "Words                                  \n",
       "It         0.000000  0.0  0.333333  0.0\n",
       "chocolate  0.666667  0.0  0.000000  0.0\n",
       "I          0.000000  0.0  0.333333  0.0\n",
       "like       0.000000  1.0  0.000000  0.5\n",
       "looks      0.000000  0.0  0.000000  0.5\n",
       "He         0.000000  0.0  0.333333  0.0\n",
       "circle     0.333333  0.0  0.000000  0.0"
      ]
     },
     "execution_count": 6,
     "metadata": {},
     "output_type": "execute_result"
    }
   ],
   "source": [
    "# calling and storing the emission probability dataframe\n",
    "e = emission_probability(vocab,tags,inp_text)\n",
    "e"
   ]
  },
  {
   "cell_type": "code",
   "execution_count": 7,
   "metadata": {
    "scrolled": true
   },
   "outputs": [
    {
     "data": {
      "text/html": [
       "<div>\n",
       "<style scoped>\n",
       "    .dataframe tbody tr th:only-of-type {\n",
       "        vertical-align: middle;\n",
       "    }\n",
       "\n",
       "    .dataframe tbody tr th {\n",
       "        vertical-align: top;\n",
       "    }\n",
       "\n",
       "    .dataframe thead th {\n",
       "        text-align: right;\n",
       "    }\n",
       "</style>\n",
       "<table border=\"1\" class=\"dataframe\">\n",
       "  <thead>\n",
       "    <tr style=\"text-align: right;\">\n",
       "      <th></th>\n",
       "      <th>&lt;s&gt;</th>\n",
       "      <th>N</th>\n",
       "      <th>IN</th>\n",
       "      <th>PRP</th>\n",
       "      <th>VB</th>\n",
       "      <th>&lt;/s&gt;</th>\n",
       "    </tr>\n",
       "    <tr>\n",
       "      <th>Tags</th>\n",
       "      <th></th>\n",
       "      <th></th>\n",
       "      <th></th>\n",
       "      <th></th>\n",
       "      <th></th>\n",
       "      <th></th>\n",
       "    </tr>\n",
       "  </thead>\n",
       "  <tbody>\n",
       "    <tr>\n",
       "      <td>&lt;s&gt;</td>\n",
       "      <td>0.0</td>\n",
       "      <td>0.0</td>\n",
       "      <td>0.000000</td>\n",
       "      <td>1.0</td>\n",
       "      <td>0.000000</td>\n",
       "      <td>0.0</td>\n",
       "    </tr>\n",
       "    <tr>\n",
       "      <td>N</td>\n",
       "      <td>0.0</td>\n",
       "      <td>0.0</td>\n",
       "      <td>0.000000</td>\n",
       "      <td>0.0</td>\n",
       "      <td>0.000000</td>\n",
       "      <td>1.0</td>\n",
       "    </tr>\n",
       "    <tr>\n",
       "      <td>IN</td>\n",
       "      <td>0.0</td>\n",
       "      <td>1.0</td>\n",
       "      <td>0.000000</td>\n",
       "      <td>0.0</td>\n",
       "      <td>0.000000</td>\n",
       "      <td>0.0</td>\n",
       "    </tr>\n",
       "    <tr>\n",
       "      <td>PRP</td>\n",
       "      <td>0.0</td>\n",
       "      <td>0.0</td>\n",
       "      <td>0.333333</td>\n",
       "      <td>0.0</td>\n",
       "      <td>0.666667</td>\n",
       "      <td>0.0</td>\n",
       "    </tr>\n",
       "    <tr>\n",
       "      <td>VB</td>\n",
       "      <td>0.0</td>\n",
       "      <td>0.5</td>\n",
       "      <td>0.500000</td>\n",
       "      <td>0.0</td>\n",
       "      <td>0.000000</td>\n",
       "      <td>0.0</td>\n",
       "    </tr>\n",
       "    <tr>\n",
       "      <td>&lt;/s&gt;</td>\n",
       "      <td>0.0</td>\n",
       "      <td>0.0</td>\n",
       "      <td>0.000000</td>\n",
       "      <td>0.0</td>\n",
       "      <td>0.000000</td>\n",
       "      <td>0.0</td>\n",
       "    </tr>\n",
       "  </tbody>\n",
       "</table>\n",
       "</div>"
      ],
      "text/plain": [
       "      <s>    N        IN  PRP        VB  </s>\n",
       "Tags                                         \n",
       "<s>   0.0  0.0  0.000000  1.0  0.000000   0.0\n",
       "N     0.0  0.0  0.000000  0.0  0.000000   1.0\n",
       "IN    0.0  1.0  0.000000  0.0  0.000000   0.0\n",
       "PRP   0.0  0.0  0.333333  0.0  0.666667   0.0\n",
       "VB    0.0  0.5  0.500000  0.0  0.000000   0.0\n",
       "</s>  0.0  0.0  0.000000  0.0  0.000000   0.0"
      ]
     },
     "execution_count": 7,
     "metadata": {},
     "output_type": "execute_result"
    }
   ],
   "source": [
    "# calling and storing the transition probability dataframe\n",
    "t = transition_probability(vocab,tags,inp_text)\n",
    "t"
   ]
  },
  {
   "cell_type": "code",
   "execution_count": 8,
   "metadata": {},
   "outputs": [
    {
     "data": {
      "text/plain": [
       "0.037037037037037035"
      ]
     },
     "execution_count": 8,
     "metadata": {},
     "output_type": "execute_result"
    }
   ],
   "source": [
    "word_seq = \"It looks like chocolate\"\n",
    "pos_seq = \"PRP VB IN N\"\n",
    "# calling the function to calculate the proability of a word sequence given the pos sequence\n",
    "prob_word_given_pos(word_seq,pos_seq,e,t)"
   ]
  },
  {
   "cell_type": "code",
   "execution_count": 9,
   "metadata": {},
   "outputs": [
    {
     "data": {
      "text/plain": [
       "0.0"
      ]
     },
     "execution_count": 9,
     "metadata": {},
     "output_type": "execute_result"
    }
   ],
   "source": [
    "word_seq = \"I like\"\n",
    "pos_seq = \"PRP VB\"\n",
    "# calling the function to calculate the probability of a word sequence given the pos sequence\n",
    "prob_word_given_pos(word_seq,pos_seq,e,t)"
   ]
  },
  {
   "cell_type": "markdown",
   "metadata": {},
   "source": [
    "### 2. Display the possible combinations (brute-force) and its probability value."
   ]
  },
  {
   "cell_type": "code",
   "execution_count": 10,
   "metadata": {},
   "outputs": [
    {
     "name": "stdout",
     "output_type": "stream",
     "text": [
      "P( It looks like chocolate | N N N N )  :  0.0\n",
      "P( It looks like chocolate | N N N IN )  :  0.0\n",
      "P( It looks like chocolate | N N N PRP )  :  0.0\n",
      "P( It looks like chocolate | N N N VB )  :  0.0\n",
      "P( It looks like chocolate | N N IN IN )  :  0.0\n",
      "P( It looks like chocolate | N N IN PRP )  :  0.0\n",
      "P( It looks like chocolate | N N IN VB )  :  0.0\n",
      "P( It looks like chocolate | N N PRP PRP )  :  0.0\n",
      "P( It looks like chocolate | N N PRP VB )  :  0.0\n",
      "P( It looks like chocolate | N N VB VB )  :  0.0\n",
      "P( It looks like chocolate | N IN IN IN )  :  0.0\n",
      "P( It looks like chocolate | N IN IN PRP )  :  0.0\n",
      "P( It looks like chocolate | N IN IN VB )  :  0.0\n",
      "P( It looks like chocolate | N IN PRP PRP )  :  0.0\n",
      "P( It looks like chocolate | N IN PRP VB )  :  0.0\n",
      "P( It looks like chocolate | N IN VB VB )  :  0.0\n",
      "P( It looks like chocolate | N PRP PRP PRP )  :  0.0\n",
      "P( It looks like chocolate | N PRP PRP VB )  :  0.0\n",
      "P( It looks like chocolate | N PRP VB VB )  :  0.0\n",
      "P( It looks like chocolate | N VB VB VB )  :  0.0\n",
      "P( It looks like chocolate | IN IN IN IN )  :  0.0\n",
      "P( It looks like chocolate | IN IN IN PRP )  :  0.0\n",
      "P( It looks like chocolate | IN IN IN VB )  :  0.0\n",
      "P( It looks like chocolate | IN IN PRP PRP )  :  0.0\n",
      "P( It looks like chocolate | IN IN PRP VB )  :  0.0\n",
      "P( It looks like chocolate | IN IN VB VB )  :  0.0\n",
      "P( It looks like chocolate | IN PRP PRP PRP )  :  0.0\n",
      "P( It looks like chocolate | IN PRP PRP VB )  :  0.0\n",
      "P( It looks like chocolate | IN PRP VB VB )  :  0.0\n",
      "P( It looks like chocolate | IN VB VB VB )  :  0.0\n",
      "P( It looks like chocolate | PRP PRP PRP PRP )  :  0.0\n",
      "P( It looks like chocolate | PRP PRP PRP VB )  :  0.0\n",
      "P( It looks like chocolate | PRP PRP VB VB )  :  0.0\n",
      "P( It looks like chocolate | PRP VB VB VB )  :  0.0\n",
      "P( It looks like chocolate | VB VB VB VB )  :  0.0\n",
      "P( It looks like chocolate | N IN VB PRP )  :  0.0\n",
      "P( It looks like chocolate | N PRP IN VB )  :  0.0\n",
      "P( It looks like chocolate | N PRP VB IN )  :  0.0\n",
      "P( It looks like chocolate | N VB IN PRP )  :  0.0\n",
      "P( It looks like chocolate | N VB PRP IN )  :  0.0\n",
      "P( It looks like chocolate | IN N PRP VB )  :  0.0\n",
      "P( It looks like chocolate | IN N VB PRP )  :  0.0\n",
      "P( It looks like chocolate | IN PRP N VB )  :  0.0\n",
      "P( It looks like chocolate | IN PRP VB N )  :  0.0\n",
      "P( It looks like chocolate | IN VB N PRP )  :  0.0\n",
      "P( It looks like chocolate | IN VB PRP N )  :  0.0\n",
      "P( It looks like chocolate | PRP N IN VB )  :  0.0\n",
      "P( It looks like chocolate | PRP N VB IN )  :  0.0\n",
      "P( It looks like chocolate | PRP IN N VB )  :  0.0\n",
      "P( It looks like chocolate | PRP IN VB N )  :  0.0\n",
      "P( It looks like chocolate | PRP VB N IN )  :  0.0\n",
      "P( It looks like chocolate | PRP VB IN N )  :  0.037037037037037035\n",
      "P( It looks like chocolate | VB N IN PRP )  :  0.0\n",
      "P( It looks like chocolate | VB N PRP IN )  :  0.0\n",
      "P( It looks like chocolate | VB IN N PRP )  :  0.0\n",
      "P( It looks like chocolate | VB IN PRP N )  :  0.0\n",
      "P( It looks like chocolate | VB PRP N IN )  :  0.0\n",
      "P( It looks like chocolate | VB PRP IN N )  :  0.0\n"
     ]
    }
   ],
   "source": [
    "word_seq = \"It looks like chocolate\"\n",
    "# all combinations of the words in the given input word sequence with repetition (sentence size = length of input\n",
    "# word sequence)\n",
    "diff_tags_combos = list(combinations_with_replacement(tags, len(word_seq.split())))\n",
    "# all combinations of the words in the given input word sequence without repetition (sentence size = length of input\n",
    "# word sequence) and appending these combinations to the above combinations list\n",
    "diff_tags_combos.extend(list(itertools.permutations(tags)))\n",
    "pos_seq = \"\"\n",
    "prob_combo = {}\n",
    "combo_str = \"\"\n",
    "# for each of the combinations we call the function to calculate the probability of the word sequence \n",
    "\n",
    "for combo in diff_tags_combos:\n",
    "    pos_seq = ' '.join(combo)\n",
    "    combo_str = \"P( \" + word_seq + \" | \" + pos_seq + \" )\"\n",
    "    prob_combo[combo_str] = prob_word_given_pos(word_seq,pos_seq,e,t)\n",
    "# printing all possible combinations and their probabilities neatly\n",
    "for key, value in prob_combo.items():\n",
    "    print(key, ' : ', value)"
   ]
  },
  {
   "cell_type": "markdown",
   "metadata": {},
   "source": [
    "### 3. Implement Viterbi to find the maximum probable POS tag sequence"
   ]
  },
  {
   "cell_type": "code",
   "execution_count": 11,
   "metadata": {},
   "outputs": [
    {
     "data": {
      "text/plain": [
       "[('It', 'PRP'),\n",
       " ('looks', 'VB'),\n",
       " ('like', 'IN'),\n",
       " ('circle', 'N'),\n",
       " ('He', 'PRP'),\n",
       " ('like', 'IN'),\n",
       " ('chocolate', 'N'),\n",
       " ('I', 'PRP'),\n",
       " ('like', 'VB'),\n",
       " ('chocolate', 'N')]"
      ]
     },
     "execution_count": 11,
     "metadata": {},
     "output_type": "execute_result"
    }
   ],
   "source": [
    "# training tagged data \n",
    "train_data = [item for sublist in inp_text for item in sublist]\n",
    "train_data"
   ]
  },
  {
   "cell_type": "code",
   "execution_count": 12,
   "metadata": {},
   "outputs": [],
   "source": [
    "def Viterbi(words, train_bag = train_data):\n",
    "    # words is the untagged word sequence we want to find the pos sequence of\n",
    "    state = []\n",
    "    # list to store the states that achieved max probability\n",
    "    T = list(set([pair[1] for pair in train_bag]))\n",
    "    # list of all the tags from the training data\n",
    "    for key, word in enumerate(words):\n",
    "        #initialise list of probability column for a given observation\n",
    "        p = [] \n",
    "        # for each tag in the tag list\n",
    "        for tag in T:\n",
    "            # if key is 0, we are in the first word of the word sequence so we need to get transition from start\n",
    "            # tag to the first word of the sentence\n",
    "            # else compute transition probabilities based on the prev state to current state\n",
    "            if key == 0:\n",
    "                transition_p = t[tag][\"<s>\"]\n",
    "            else:\n",
    "                transition_p = t[tag][state[-1]]\n",
    "            # emission probability\n",
    "            emission_p = e[tag][words[key]]\n",
    "            # state probability\n",
    "            state_probability = emission_p * transition_p\n",
    "            # appending the state probabilities\n",
    "            p.append(state_probability) \n",
    "        # getting the maximum state probability and finding out which state the probability belongs to\n",
    "        pmax = max(p)\n",
    "        # getting state for which probability is maximum\n",
    "        state_max = T[p.index(pmax)]\n",
    "        # appending the state with max probability\n",
    "        state.append(state_max)\n",
    "    # return the respective word and its state/tag\n",
    "    return list(zip(words, state))"
   ]
  },
  {
   "cell_type": "code",
   "execution_count": 13,
   "metadata": {},
   "outputs": [
    {
     "name": "stdout",
     "output_type": "stream",
     "text": [
      "Maximum probable POS tag sequence for the word sequence It looks like chocolate is : \n"
     ]
    },
    {
     "data": {
      "text/plain": [
       "[('It', 'PRP'), ('looks', 'VB'), ('like', 'IN'), ('chocolate', 'N')]"
      ]
     },
     "execution_count": 13,
     "metadata": {},
     "output_type": "execute_result"
    }
   ],
   "source": [
    "word_seq = \"It looks like chocolate\"\n",
    "print(\"Maximum probable POS tag sequence for the word sequence\",word_seq,\"is : \")\n",
    "Viterbi(word_seq.split())"
   ]
  },
  {
   "cell_type": "code",
   "execution_count": null,
   "metadata": {},
   "outputs": [],
   "source": []
  }
 ],
 "metadata": {
  "kernelspec": {
   "display_name": "Python 3",
   "language": "python",
   "name": "python3"
  },
  "language_info": {
   "codemirror_mode": {
    "name": "ipython",
    "version": 3
   },
   "file_extension": ".py",
   "mimetype": "text/x-python",
   "name": "python",
   "nbconvert_exporter": "python",
   "pygments_lexer": "ipython3",
   "version": "3.7.4"
  }
 },
 "nbformat": 4,
 "nbformat_minor": 2
}
